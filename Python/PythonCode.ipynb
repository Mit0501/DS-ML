{
  "nbformat": 4,
  "nbformat_minor": 0,
  "metadata": {
    "colab": {
      "provenance": [],
      "authorship_tag": "ABX9TyNxHbUTQ9cuyaTyzYzH7RUd",
      "include_colab_link": true
    },
    "kernelspec": {
      "name": "python3",
      "display_name": "Python 3"
    },
    "language_info": {
      "name": "python"
    }
  },
  "cells": [
    {
      "cell_type": "markdown",
      "metadata": {
        "id": "view-in-github",
        "colab_type": "text"
      },
      "source": [
        "<a href=\"https://colab.research.google.com/github/Mit0501/DS-ML/blob/main/Python/PythonCode.ipynb\" target=\"_parent\"><img src=\"https://colab.research.google.com/assets/colab-badge.svg\" alt=\"Open In Colab\"/></a>"
      ]
    },
    {
      "cell_type": "code",
      "source": [
        "# inbuilt function\n",
        "print(\"Hello World!\")"
      ],
      "metadata": {
        "colab": {
          "base_uri": "https://localhost:8080/"
        },
        "id": "uno5vkpSRtbK",
        "outputId": "5375163c-d7e1-41f4-b34e-204b185bb0f4"
      },
      "execution_count": null,
      "outputs": [
        {
          "output_type": "stream",
          "name": "stdout",
          "text": [
            "Hello World!\n"
          ]
        }
      ]
    },
    {
      "cell_type": "code",
      "source": [
        "name = input(\"What is your name ?\")"
      ],
      "metadata": {
        "colab": {
          "base_uri": "https://localhost:8080/"
        },
        "id": "audsYohFR0s-",
        "outputId": "862ffb51-c458-4bcf-d0e3-867f56bb26f4"
      },
      "execution_count": null,
      "outputs": [
        {
          "name": "stdout",
          "output_type": "stream",
          "text": [
            "What is your name ?MITHILESH SINGH\n"
          ]
        }
      ]
    },
    {
      "cell_type": "code",
      "source": [
        "print(name)"
      ],
      "metadata": {
        "colab": {
          "base_uri": "https://localhost:8080/"
        },
        "id": "RbCG4QwVR3kl",
        "outputId": "f2c3a14a-5d2f-47fd-901f-a9892d372c2a"
      },
      "execution_count": null,
      "outputs": [
        {
          "output_type": "stream",
          "name": "stdout",
          "text": [
            "MITHILESH SINGH\n"
          ]
        }
      ]
    },
    {
      "cell_type": "code",
      "source": [
        "type(name)"
      ],
      "metadata": {
        "colab": {
          "base_uri": "https://localhost:8080/"
        },
        "id": "F_UTdB13R6JY",
        "outputId": "6967fe06-694f-43b8-9f9c-41d16252d64c"
      },
      "execution_count": null,
      "outputs": [
        {
          "output_type": "execute_result",
          "data": {
            "text/plain": [
              "str"
            ]
          },
          "metadata": {},
          "execution_count": 11
        }
      ]
    },
    {
      "cell_type": "code",
      "source": [
        "# data types\n",
        "# numerics\n",
        "a = 1 # 1,2,-1,-11,.... integer\n",
        "b = 1.2 # float\n",
        "c = 1 +2j # complex\n",
        "\n",
        "# boolean\n",
        "is_working = True\n",
        "\n",
        "# array data types\n",
        "name = \"Mithiesh Singh 1234 @#$%\" # String\n",
        "sample = [1, 2, 3, 4.5, 6.7, \"abc\", \"ABC\" , [1,2,3,4]] # list are mutable\n",
        "country = (\"abc\", 1,2,3, 5.5) # tuple are immutable"
      ],
      "metadata": {
        "id": "_OnmNcCZSA5D"
      },
      "execution_count": null,
      "outputs": []
    },
    {
      "cell_type": "code",
      "source": [
        "sample.pop()\n",
        "print(sample[2])\n",
        "sample"
      ],
      "metadata": {
        "colab": {
          "base_uri": "https://localhost:8080/"
        },
        "id": "7_QDxUSvSFf8",
        "outputId": "5c78ed34-3825-4b5a-ffb0-d3de96cb713c"
      },
      "execution_count": null,
      "outputs": [
        {
          "output_type": "stream",
          "name": "stdout",
          "text": [
            "3\n"
          ]
        },
        {
          "output_type": "execute_result",
          "data": {
            "text/plain": [
              "[1, 2, 3, 4.5, 6.7, 'abc', 'ABC']"
            ]
          },
          "metadata": {},
          "execution_count": 20
        }
      ]
    },
    {
      "cell_type": "code",
      "source": [
        "country[4]"
      ],
      "metadata": {
        "colab": {
          "base_uri": "https://localhost:8080/"
        },
        "id": "zQAwnvs8SIy-",
        "outputId": "c5152bac-db81-470d-a875-f0fd4b678ce1"
      },
      "execution_count": null,
      "outputs": [
        {
          "output_type": "execute_result",
          "data": {
            "text/plain": [
              "5.5"
            ]
          },
          "metadata": {},
          "execution_count": 21
        }
      ]
    },
    {
      "cell_type": "code",
      "source": [
        "name[2]"
      ],
      "metadata": {
        "colab": {
          "base_uri": "https://localhost:8080/",
          "height": 35
        },
        "id": "OgGiOOp0SLTG",
        "outputId": "05960db6-3416-436e-ab67-808db734afb4"
      },
      "execution_count": null,
      "outputs": [
        {
          "output_type": "execute_result",
          "data": {
            "text/plain": [
              "'t'"
            ],
            "application/vnd.google.colaboratory.intrinsic+json": {
              "type": "string"
            }
          },
          "metadata": {},
          "execution_count": 22
        }
      ]
    },
    {
      "cell_type": "code",
      "source": [
        "dct = {\"fruits\": \"apple\", 1: [\"potato\",\"\"] }\n",
        "dct[1]"
      ],
      "metadata": {
        "colab": {
          "base_uri": "https://localhost:8080/"
        },
        "id": "g3fr5LNNSNsF",
        "outputId": "133b1c15-bee4-4564-aa4b-700e21af6b76"
      },
      "execution_count": null,
      "outputs": [
        {
          "output_type": "execute_result",
          "data": {
            "text/plain": [
              "['potato', '']"
            ]
          },
          "metadata": {},
          "execution_count": 23
        }
      ]
    },
    {
      "cell_type": "code",
      "source": [
        "# operator\n",
        "# arithmatic operator  - + - * // % **\n",
        "print(2/3)  # float value also\n",
        "print(4%3)  # remainder\n",
        "print(2//3)  # Interger part value only\n",
        "\n",
        "# # comparison operators < > == =< => <>\n",
        "2<4"
      ],
      "metadata": {
        "colab": {
          "base_uri": "https://localhost:8080/"
        },
        "id": "uXy5UxrTSRtX",
        "outputId": "9bfad81d-2b2d-4844-c1d7-82dd11d6469c"
      },
      "execution_count": null,
      "outputs": [
        {
          "output_type": "stream",
          "name": "stdout",
          "text": [
            "0.6666666666666666\n",
            "1\n",
            "0\n"
          ]
        },
        {
          "output_type": "execute_result",
          "data": {
            "text/plain": [
              "True"
            ]
          },
          "metadata": {},
          "execution_count": 29
        }
      ]
    },
    {
      "cell_type": "code",
      "source": [
        "# logical operator - and or\n",
        "2< 4 or 4> 6 or 6>8"
      ],
      "metadata": {
        "colab": {
          "base_uri": "https://localhost:8080/"
        },
        "id": "kB5fCfBoSU_y",
        "outputId": "ce4a38fa-9ca6-4abf-ddbd-ea871a72d8fd"
      },
      "execution_count": null,
      "outputs": [
        {
          "output_type": "execute_result",
          "data": {
            "text/plain": [
              "True"
            ]
          },
          "metadata": {},
          "execution_count": 30
        }
      ]
    },
    {
      "cell_type": "code",
      "source": [
        "# assignment operator = +=\n",
        "a = 1\n",
        "\n",
        "a += 1 # a = a+1\n",
        "print(a)"
      ],
      "metadata": {
        "colab": {
          "base_uri": "https://localhost:8080/"
        },
        "id": "mPt7KuIuSY8H",
        "outputId": "789a6113-1299-4ace-dfb5-6cc3a580eba6"
      },
      "execution_count": null,
      "outputs": [
        {
          "output_type": "stream",
          "name": "stdout",
          "text": [
            "2\n"
          ]
        }
      ]
    },
    {
      "cell_type": "code",
      "source": [
        "\n",
        "salary = 100000\n",
        "\n",
        "salary = salary+10000"
      ],
      "metadata": {
        "id": "fbFAvH9FSbMm"
      },
      "execution_count": null,
      "outputs": []
    },
    {
      "cell_type": "code",
      "source": [
        "salary"
      ],
      "metadata": {
        "colab": {
          "base_uri": "https://localhost:8080/"
        },
        "id": "aribFT5lSglO",
        "outputId": "8f5a0b56-465f-4b7b-d1e7-1dad9a8a7e09"
      },
      "execution_count": null,
      "outputs": [
        {
          "output_type": "execute_result",
          "data": {
            "text/plain": [
              "110000"
            ]
          },
          "metadata": {},
          "execution_count": 34
        }
      ]
    },
    {
      "cell_type": "code",
      "source": [
        "salary += 10000\n",
        "print(salary)"
      ],
      "metadata": {
        "colab": {
          "base_uri": "https://localhost:8080/"
        },
        "id": "X1M0xRJ3SkL4",
        "outputId": "18e2cc94-e90c-47f1-db36-7633eb71c057"
      },
      "execution_count": null,
      "outputs": [
        {
          "output_type": "stream",
          "name": "stdout",
          "text": [
            "120000\n"
          ]
        }
      ]
    },
    {
      "cell_type": "code",
      "source": [
        "temp = float(input(\"Enter the temperature: \"))"
      ],
      "metadata": {
        "colab": {
          "base_uri": "https://localhost:8080/"
        },
        "id": "CYuV3XwESmu9",
        "outputId": "2d188511-e8d2-4779-b098-708d54338042"
      },
      "execution_count": null,
      "outputs": [
        {
          "name": "stdout",
          "output_type": "stream",
          "text": [
            "Enter the temperature: 40\n"
          ]
        }
      ]
    },
    {
      "cell_type": "code",
      "source": [
        "far = ((9/5) * temp) +32"
      ],
      "metadata": {
        "id": "UEuHOFDPSpI0"
      },
      "execution_count": null,
      "outputs": []
    },
    {
      "cell_type": "code",
      "source": [
        "# control flow statement\n",
        "\n",
        "# conditional statment\n",
        "temp = float(input(\"Enter the temperature: \"))\n",
        "far = ((9/5) * temp) +32\n",
        "face = input(\"color of face: \")\n",
        "\n",
        "if far >100 and face == \"red\":\n",
        "  print(\"user have a fever\")\n",
        "elif far < 95:\n",
        "  print(\"user is having lwo temp\")\n",
        "else:\n",
        "  print(\"user dont have fever\")"
      ],
      "metadata": {
        "colab": {
          "base_uri": "https://localhost:8080/"
        },
        "id": "fRnHFcIEStTq",
        "outputId": "c03068cc-9202-4275-a5e2-832636982b1f"
      },
      "execution_count": null,
      "outputs": [
        {
          "output_type": "stream",
          "name": "stdout",
          "text": [
            "Enter the temperature: 40\n",
            "color of facenull\n",
            "user dont have fever\n"
          ]
        }
      ]
    },
    {
      "cell_type": "code",
      "source": [
        "# Create Calculator\n",
        "operator = input(\"Enter opearator: \")\n",
        "number1 = float(input(\"Enter first number: \"))\n",
        "number2 = float(input(\"Enter second number: \"))\n",
        "\n",
        "if operator == \"+\":\n",
        "    print(number1 + number2)\n",
        "elif operator == \"-\":\n",
        "    print(number1 - number2)\n",
        "elif operator == \"*\":\n",
        "    print(number1 * number2)\n",
        "elif operator == \"/\":\n",
        "    print(number1 / number2)\n",
        "else:\n",
        "    print(\"Invalid operator\")"
      ],
      "metadata": {
        "colab": {
          "base_uri": "https://localhost:8080/"
        },
        "id": "r0jxDAuIS6tN",
        "outputId": "e6172c58-5380-4711-e713-c065fc68ee04"
      },
      "execution_count": null,
      "outputs": [
        {
          "output_type": "stream",
          "name": "stdout",
          "text": [
            "Enter opearator: *\n",
            "Enter first number: 3\n",
            "Enter second number: 2\n",
            "6.0\n"
          ]
        }
      ]
    },
    {
      "cell_type": "code",
      "source": [
        "# looping statments  - for ,while\n",
        "\n",
        "name_of_fruits = ['apple', 'banana', 'oranges']\n",
        "\n",
        "for fruit in name_of_fruits:\n",
        "  print(fruit)"
      ],
      "metadata": {
        "colab": {
          "base_uri": "https://localhost:8080/"
        },
        "id": "b4Hm4R06TIGT",
        "outputId": "24792498-d79e-406e-c862-7ee285cf3e98"
      },
      "execution_count": null,
      "outputs": [
        {
          "output_type": "stream",
          "name": "stdout",
          "text": [
            "apple\n",
            "banana\n",
            "oranges\n"
          ]
        }
      ]
    },
    {
      "cell_type": "code",
      "source": [
        "for num in range(10):\n",
        "  print(num**num)"
      ],
      "metadata": {
        "colab": {
          "base_uri": "https://localhost:8080/"
        },
        "id": "1KfpKp1BTL5U",
        "outputId": "20612856-0236-4d12-fe16-1f63ff186974"
      },
      "execution_count": null,
      "outputs": [
        {
          "output_type": "stream",
          "name": "stdout",
          "text": [
            "1\n",
            "1\n",
            "4\n",
            "27\n",
            "256\n",
            "3125\n",
            "46656\n",
            "823543\n",
            "16777216\n",
            "387420489\n"
          ]
        }
      ]
    },
    {
      "cell_type": "code",
      "source": [
        "# Find all even number upto 20\n",
        "for i in range(0, 21):\n",
        "  if i%2==0:\n",
        "    print(i,end=' ')\n",
        "print()\n",
        "for i in range(0,21,2):\n",
        "  print(i, end=' ')"
      ],
      "metadata": {
        "colab": {
          "base_uri": "https://localhost:8080/"
        },
        "id": "qs-rfGMYJjtx",
        "outputId": "ce224ece-3f99-4e7f-867f-505ae51be3f2"
      },
      "execution_count": null,
      "outputs": [
        {
          "output_type": "stream",
          "name": "stdout",
          "text": [
            "0 2 4 6 8 10 12 14 16 18 20 \n",
            "0 2 4 6 8 10 12 14 16 18 20 "
          ]
        }
      ]
    },
    {
      "cell_type": "code",
      "source": [
        "x = 0\n",
        "while x < 10:\n",
        "  x  += 1\n",
        "  print(x)"
      ],
      "metadata": {
        "colab": {
          "base_uri": "https://localhost:8080/"
        },
        "id": "XeRSWdMzTStC",
        "outputId": "c7b0678b-75f5-47b6-d3ba-b7daf793f7d4"
      },
      "execution_count": null,
      "outputs": [
        {
          "output_type": "stream",
          "name": "stdout",
          "text": [
            "1\n",
            "2\n",
            "3\n",
            "4\n",
            "5\n",
            "6\n",
            "7\n",
            "8\n",
            "9\n",
            "10\n"
          ]
        }
      ]
    },
    {
      "cell_type": "code",
      "source": [
        "# create method which will help you create a grocery list with quantity\n",
        "grocery = {}\n",
        "exit = True\n",
        "while exit:\n",
        "  key = input(\"Enter what you want: \")\n",
        "  if key == \"exit\":\n",
        "    break\n",
        "    # continue -- to skip the remaining code inside the loop for current iteration only / next loop iteration\n",
        "    # pass -- does nothing\n",
        "  else:\n",
        "    value = input(\"how much you want: \")\n",
        "    grocery[key] = value\n",
        "\n",
        "\n",
        "# break , continue , pass\n"
      ],
      "metadata": {
        "colab": {
          "base_uri": "https://localhost:8080/"
        },
        "id": "jIJMFeIMLi8J",
        "outputId": "80c72c30-e688-44f8-dba0-d1ea5176da98"
      },
      "execution_count": null,
      "outputs": [
        {
          "name": "stdout",
          "output_type": "stream",
          "text": [
            "Enter what you want: Rice\n",
            "how much you want: 2 packets\n",
            "Enter what you want: exit\n"
          ]
        }
      ]
    },
    {
      "cell_type": "code",
      "source": [
        "print(grocery)\n",
        "print(grocery.keys())\n",
        "print(grocery.values())"
      ],
      "metadata": {
        "id": "bBWZu9VmTg99"
      },
      "execution_count": null,
      "outputs": []
    },
    {
      "cell_type": "code",
      "source": [
        "# exception handling\n",
        "\n",
        "while True:\n",
        "  try:\n",
        "    num1 = int(input(\"Enter you num: \"))\n",
        "  except Exception as e:\n",
        "    print(e)\n",
        "  else:\n",
        "    print(num1 ** num1)\n",
        "  finally:\n",
        "    del num1"
      ],
      "metadata": {
        "id": "4f-lAVJDTlaV",
        "outputId": "f5577b2d-fcbd-4754-d6fc-d60cfaa3c14f",
        "colab": {
          "base_uri": "https://localhost:8080/"
        }
      },
      "execution_count": null,
      "outputs": [
        {
          "metadata": {
            "tags": null
          },
          "name": "stdout",
          "output_type": "stream",
          "text": [
            "256\n"
          ]
        }
      ]
    },
    {
      "cell_type": "code",
      "source": [
        "for i in range(10):\n",
        "  print(i)"
      ],
      "metadata": {
        "id": "ZyowJ325TuQx"
      },
      "execution_count": null,
      "outputs": []
    }
  ]
}